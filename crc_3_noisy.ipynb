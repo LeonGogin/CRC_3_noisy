{
 "cells": [
  {
   "cell_type": "code",
   "execution_count": 1,
   "metadata": {
    "ExecuteTime": {
     "end_time": "2021-08-07T17:49:42.156829Z",
     "start_time": "2021-08-07T17:49:06.588293Z"
    }
   },
   "outputs": [],
   "source": [
    "from models import generate_model, get_epistemic_uncertainty\n",
    "from utils import load_data, real_class_dictionary"
   ]
  },
  {
   "cell_type": "code",
   "execution_count": 7,
   "metadata": {
    "ExecuteTime": {
     "end_time": "2021-08-07T17:49:44.244204Z",
     "start_time": "2021-08-07T17:49:44.233785Z"
    }
   },
   "outputs": [],
   "source": [
    "import numpy as np\n",
    "import tensorflow as tf\n",
    "import pandas as pd\n",
    "\n",
    "import matplotlib.pyplot as plt\n",
    "%matplotlib inline\n",
    "\n",
    "from tensorflow.keras.models import load_model\n",
    "\n",
    "batch_size = 32\n",
    "epochs = 20\n",
    "num_classes = 3\n",
    "\n",
    "metrics = ['accuracy']\n",
    "\n",
    "loss_func = tf.keras.losses.categorical_crossentropy"
   ]
  },
  {
   "cell_type": "code",
   "execution_count": 3,
   "metadata": {
    "ExecuteTime": {
     "end_time": "2021-08-07T17:49:46.054822Z",
     "start_time": "2021-08-07T17:49:46.044744Z"
    }
   },
   "outputs": [],
   "source": [
    "##RUN NOTEBOOK IN TRAINING MODE OR LOAD MODEL, HISTORY AND COLCULATED UNCERTAINCY FROM BACKUP\n",
    "    #    trained = False --> training mode \n",
    "\n",
    "trained = False\n",
    "# trained = True\n",
    "\n",
    "\n",
    "real_labels = [\"AC\", \"AD\", \"H\"]\n",
    "noise_labels = [\"blood\", \"fat\", \"glass\", \"stroma\"]\n",
    "\n",
    "#back up files\n",
    "base_path = \"results/\"\n",
    "model_back_up = base_path + \"model.h5\"\n",
    "history_back_up = base_path + \"history.csv\"\n",
    "uncertainty_back_up = base_path + \"uncertainty.csv\""
   ]
  },
  {
   "cell_type": "markdown",
   "metadata": {},
   "source": [
    "# Introduction\n",
    "\n",
    "In real world application cases it is very difficult to have clean data set without noises., for this reason it is essential to have an approach to be able to estimate the uncertainty of the classification. one of the solution may be considered Bayesian Convolutional Neural Networks that allow to find posterior distribution from which can be found uncertainty of the model parameters. However it is computationally intractable since require to perform integration over entire the space of parameters of the model.[Kwon et al., 2018] The solution of this problem is the drop out method that allow to approximate the Bayesian inference. [Gal, 2015]\n",
    "\n",
    "## set up and load data\n",
    "\n",
    "In order to load train and test data sets I have implement the function \"load_data\", that in place convert all labels in one hot encoding. In the case of train data set all data is splitted into train and validation subsets by sklearn function \"train_test_split\" in proportion 80/20. Also for convenience of noise analysis i convert data set of real class labels into a dictionary with string of real class as keys and as values the array of indexes of the corresponding data set vector."
   ]
  },
  {
   "cell_type": "code",
   "execution_count": 4,
   "metadata": {
    "ExecuteTime": {
     "end_time": "2021-08-07T17:49:53.489730Z",
     "start_time": "2021-08-07T17:49:52.400547Z"
    },
    "scrolled": false
   },
   "outputs": [
    {
     "name": "stdout",
     "output_type": "stream",
     "text": [
      "train data shape (9868, 32, 32, 3)\n",
      "validation data shape (2468, 32, 32, 3)\n",
      "input data shape (32, 32, 3)\n",
      "real class lables dict_keys(['AC', 'AD', 'H', 'blood', 'fat', 'glass', 'stroma'])\n"
     ]
    }
   ],
   "source": [
    "\n",
    "#data set is expected to be in data folder\n",
    "x_data, y_data, real_train_class = load_data(\"train\", base_path = \"data/\")\n",
    "\n",
    "train_data_size = x_data[0].shape\n",
    "valid_data_size = x_data[1].shape\n",
    "\n",
    "# sampes number, width, height, chanel\n",
    "print(f\"train data shape {train_data_size}\")\n",
    "print(f\"validation data shape {valid_data_size}\")\n",
    "\n",
    "# width, height, chanel\n",
    "input_data_size = train_data_size[1:]\n",
    "print(f\"input data shape {input_data_size}\")\n",
    "\n",
    "index_real_class = real_class_dictionary(real_train_class)\n",
    "print(f\"real class lables {index_real_class.keys()}\")"
   ]
  },
  {
   "cell_type": "code",
   "execution_count": 5,
   "metadata": {
    "ExecuteTime": {
     "end_time": "2021-08-07T17:49:55.386570Z",
     "start_time": "2021-08-07T17:49:55.104991Z"
    }
   },
   "outputs": [
    {
     "name": "stdout",
     "output_type": "stream",
     "text": [
      "data shape (7308, 32, 32, 3)\n"
     ]
    }
   ],
   "source": [
    "x_test_data, y_test_data, real_test_class = load_data(\"test\", base_path = \"data/\")\n",
    "\n",
    "test_dim = x_test_data.shape\n",
    "print(f\"data shape {x_test_data.shape}\")\n",
    "\n",
    "index_test_real_class = real_class_dictionary(real_test_class)\n"
   ]
  },
  {
   "cell_type": "markdown",
   "metadata": {},
   "source": [
    "# model\n",
    "\n",
    "Model is generated by a function \"generate_model\", that take as arguments the number of classes, input size, number of layers and dropout rate. Such method allows me to have better control over some initial set up of the model and architecture. So after several attempt I was able to find optimal configuration for the model.\n",
    "\n",
    "In order to implement Bayesian Convolutional Neural Network for multi class classification I choose the sequential architecture composed of 3 convolutional layers each of that is followed by max pooling layer and dropout layer. As final stage I added the flatten layer that prepare the input for dense layer followed again by drop out layer. At each new convolutional layer I double the number of filters - starting from 32 - and set the kernel dimension to (3,3), except the first one where I used kernel dimension (5,5). For each layer I used \"same\" padding and the relu-activation function, as consequence I used he_normal-initializer for weight initialization. Instead for the last output dense layer I used softmax-activation function as have been suggested by [Kwon et al., 2018]. also I forced drop out layer to be active in training and test phase. The main role of the dropout is to randomly turn off some of the inputs to the layer. In this way in training phase it prevent oferfitting, indeed in this way neurons doesn't learn exactly the training data set. From other hand in test phase drop out allow some degree of uncertainty in evaluation and prediction of new samples that allow to approximate posterior distribution[Gal, 2015] and thus estimate variations.\n",
    "\n",
    "I compile the model with categorical cross entropy as a loss function, Adam optimizer and accuracy as metrics. After that I trained the model for 25 epoch, that seems optimal in training and evaluation performance, since training and evaluation loss/accuracy started to deviate. \n",
    "\n",
    "Finally I saved the model and history."
   ]
  },
  {
   "cell_type": "code",
   "execution_count": 8,
   "metadata": {
    "ExecuteTime": {
     "end_time": "2021-08-07T17:58:11.761940Z",
     "start_time": "2021-08-07T17:49:58.916810Z"
    },
    "scrolled": true
   },
   "outputs": [
    {
     "name": "stdout",
     "output_type": "stream",
     "text": [
      "Model: \"model_1\"\n",
      "_________________________________________________________________\n",
      " Layer (type)                Output Shape              Param #   \n",
      "=================================================================\n",
      " input_2 (InputLayer)        [(None, 32, 32, 3)]       0         \n",
      "                                                                 \n",
      " conv2d_3 (Conv2D)           (None, 32, 32, 32)        2432      \n",
      "                                                                 \n",
      " max_pooling2d_3 (MaxPooling  (None, 16, 16, 32)       0         \n",
      " 2D)                                                             \n",
      "                                                                 \n",
      " dropout_4 (Dropout)         (None, 16, 16, 32)        0         \n",
      "                                                                 \n",
      " conv2d_4 (Conv2D)           (None, 16, 16, 64)        18496     \n",
      "                                                                 \n",
      " max_pooling2d_4 (MaxPooling  (None, 8, 8, 64)         0         \n",
      " 2D)                                                             \n",
      "                                                                 \n",
      " dropout_5 (Dropout)         (None, 8, 8, 64)          0         \n",
      "                                                                 \n",
      " conv2d_5 (Conv2D)           (None, 8, 8, 128)         73856     \n",
      "                                                                 \n",
      " max_pooling2d_5 (MaxPooling  (None, 4, 4, 128)        0         \n",
      " 2D)                                                             \n",
      "                                                                 \n",
      " dropout_6 (Dropout)         (None, 4, 4, 128)         0         \n",
      "                                                                 \n",
      " flatten_1 (Flatten)         (None, 2048)              0         \n",
      "                                                                 \n",
      " dense_2 (Dense)             (None, 128)               262272    \n",
      "                                                                 \n",
      " dropout_7 (Dropout)         (None, 128)               0         \n",
      "                                                                 \n",
      " dense_3 (Dense)             (None, 3)                 387       \n",
      "                                                                 \n",
      "=================================================================\n",
      "Total params: 357,443\n",
      "Trainable params: 357,443\n",
      "Non-trainable params: 0\n",
      "_________________________________________________________________\n",
      "Epoch 1/20\n",
      "309/309 [==============================] - 27s 85ms/step - loss: 10.8837 - accuracy: 0.5656 - val_loss: 1.3523 - val_accuracy: 0.5421\n",
      "Epoch 2/20\n",
      "309/309 [==============================] - 21s 68ms/step - loss: 1.1161 - accuracy: 0.5868 - val_loss: 1.0496 - val_accuracy: 0.5227\n",
      "Epoch 3/20\n",
      "309/309 [==============================] - 22s 70ms/step - loss: 1.0395 - accuracy: 0.5739 - val_loss: 1.0309 - val_accuracy: 0.5482\n",
      "Epoch 4/20\n",
      "309/309 [==============================] - 20s 64ms/step - loss: 1.0295 - accuracy: 0.5930 - val_loss: 1.0237 - val_accuracy: 0.5413\n",
      "Epoch 5/20\n",
      "309/309 [==============================] - 19s 60ms/step - loss: 1.0285 - accuracy: 0.5837 - val_loss: 1.0760 - val_accuracy: 0.6021\n",
      "Epoch 6/20\n",
      "309/309 [==============================] - 18s 57ms/step - loss: 1.0226 - accuracy: 0.5948 - val_loss: 1.0194 - val_accuracy: 0.6151\n",
      "Epoch 7/20\n",
      "309/309 [==============================] - 21s 67ms/step - loss: 1.0212 - accuracy: 0.5943 - val_loss: 1.0166 - val_accuracy: 0.6305\n",
      "Epoch 8/20\n",
      "309/309 [==============================] - 19s 62ms/step - loss: 1.0223 - accuracy: 0.5897 - val_loss: 1.0131 - val_accuracy: 0.5997\n",
      "Epoch 9/20\n",
      "309/309 [==============================] - 21s 69ms/step - loss: 1.0197 - accuracy: 0.5966 - val_loss: 1.0127 - val_accuracy: 0.5429\n",
      "Epoch 10/20\n",
      "309/309 [==============================] - 21s 67ms/step - loss: 1.0218 - accuracy: 0.5911 - val_loss: 1.0138 - val_accuracy: 0.6293\n",
      "Epoch 11/20\n",
      "309/309 [==============================] - 20s 66ms/step - loss: 1.0187 - accuracy: 0.5944 - val_loss: 1.0176 - val_accuracy: 0.6309\n",
      "Epoch 12/20\n",
      "309/309 [==============================] - 22s 70ms/step - loss: 1.0183 - accuracy: 0.5979 - val_loss: 1.0167 - val_accuracy: 0.6159\n",
      "Epoch 13/20\n",
      "309/309 [==============================] - 21s 69ms/step - loss: 1.0184 - accuracy: 0.5944 - val_loss: 1.0159 - val_accuracy: 0.6139\n",
      "Epoch 14/20\n",
      "309/309 [==============================] - 22s 71ms/step - loss: 1.0190 - accuracy: 0.6026 - val_loss: 1.0127 - val_accuracy: 0.6195\n",
      "Epoch 15/20\n",
      "309/309 [==============================] - 24s 79ms/step - loss: 1.0196 - accuracy: 0.6047 - val_loss: 1.0205 - val_accuracy: 0.5462\n",
      "Epoch 16/20\n",
      "309/309 [==============================] - 24s 77ms/step - loss: 1.0174 - accuracy: 0.5952 - val_loss: 1.0162 - val_accuracy: 0.6284\n",
      "Epoch 17/20\n",
      "309/309 [==============================] - 23s 76ms/step - loss: 1.0198 - accuracy: 0.5950 - val_loss: 1.0141 - val_accuracy: 0.5932\n",
      "Epoch 18/20\n",
      "309/309 [==============================] - 24s 77ms/step - loss: 1.0175 - accuracy: 0.6019 - val_loss: 1.0315 - val_accuracy: 0.5085\n",
      "Epoch 19/20\n",
      "309/309 [==============================] - 24s 77ms/step - loss: 1.0205 - accuracy: 0.5992 - val_loss: 1.0222 - val_accuracy: 0.6264\n",
      "Epoch 20/20\n",
      "309/309 [==============================] - 24s 77ms/step - loss: 1.0183 - accuracy: 0.6034 - val_loss: 1.0160 - val_accuracy: 0.5600\n"
     ]
    }
   ],
   "source": [
    "if trained:\n",
    "    print(\"model already havse been trained\")\n",
    "    model = load_model(model_back_up)\n",
    "    model.summary()\n",
    "    df = pd.read_csv(history_back_up)\n",
    "    \n",
    "    #SHOULDN'T BE DONE\n",
    "    from tensorflow.keras.callbacks import History\n",
    "    mod_history = History()\n",
    "    mod_history.history = {\"accuracy\": df[\"accuracy\"],\n",
    "                  \"val_accuracy\": df[\"val_accuracy\"],\n",
    "                  \"loss\": df[\"loss\"],\n",
    "                  \"val_loss\": df[\"val_loss\"]}\n",
    "else:\n",
    "    model = generate_model(num_classes, input_data_size, layer_num = 3, drop_rate = 0.25)\n",
    "    model.summary()\n",
    "    model.compile(loss = loss_func, \n",
    "                      optimizer = tf.keras.optimizers.Adam(),\n",
    "                      metrics = metrics)\n",
    "    mod_history = model.fit(x_data[0], y_data[0], \n",
    "                                    batch_size = batch_size,\n",
    "                                    epochs=epochs,verbose=1,\n",
    "                                    validation_data=(x_data[1], y_data[1]))\n",
    "    \n",
    "    \n",
    "    model.save(model_back_up)\n",
    "    history_data_set = pd.DataFrame({\"accuracy\": mod_history.history[\"accuracy\"],\n",
    "                      \"val_accuracy\": mod_history.history[\"val_accuracy\"],\n",
    "                       \"loss\": mod_history.history[\"loss\"],\n",
    "                       \"val_loss\": mod_history.history[\"val_loss\"],}) \n",
    "    with open(history_back_up, mode='w') as f:\n",
    "        history_data_set.to_csv(f)"
   ]
  },
  {
   "cell_type": "markdown",
   "metadata": {},
   "source": [
    "## performance\n",
    "\n",
    "As may be seen from plot below accuracy and the loss of the train and validation data set present the same behavior, except some fluctuation in validation accuracy and loss. Also both characteristics achieve almost stable and satisfactory values of accuracy and loss. In this way at first analysis the model learn well from training data set and avoid overfitting. "
   ]
  },
  {
   "cell_type": "code",
   "execution_count": 9,
   "metadata": {
    "ExecuteTime": {
     "end_time": "2021-08-07T18:19:01.212209Z",
     "start_time": "2021-08-07T18:19:00.141994Z"
    },
    "scrolled": false
   },
   "outputs": [
    {
     "data": {
      "image/png": "[encoded data removed]",
      "text/plain": [
       "<Figure size 432x288 with 1 Axes>"
      ]
     },
     "metadata": {
      "needs_background": "light"
     },
     "output_type": "display_data"
    },
    {
     "data": {
      "image/png": "[encoded data removed]",
      "text/plain": [
       "<Figure size 432x288 with 1 Axes>"
      ]
     },
     "metadata": {
      "needs_background": "light"
     },
     "output_type": "display_data"
    }
   ],
   "source": [
    "accuracy = mod_history.history['accuracy']\n",
    "val_accuracy = mod_history.history['val_accuracy']\n",
    "\n",
    "\n",
    "loss = mod_history.history['loss']\n",
    "val_loss = mod_history.history['val_loss']\n",
    "\n",
    "epochs = range(len(accuracy))\n",
    "plt.plot(epochs, accuracy, 'bo', label='Training accuracy')\n",
    "plt.plot(epochs, val_accuracy, 'b', label='Validation accuracy')\n",
    "plt.title('Training and validation accuracy')\n",
    "plt.legend()\n",
    "plt.savefig(base_path + 'accuracy_vs_epoch.png')\n",
    "\n",
    "plt.figure()\n",
    "plt.plot(epochs, loss, 'bo', label='Training loss')\n",
    "plt.plot(epochs, val_loss, 'b', label='Validation loss')\n",
    "plt.title('Training and validation loss')\n",
    "\n",
    "\n",
    "plt.legend()\n",
    "plt.savefig(base_path + 'loss_vs_epoch.png')\n",
    "plt.show()\n"
   ]
  },
  {
   "cell_type": "markdown",
   "metadata": {},
   "source": [
    "## evaluate model on test data set\n",
    "\n",
    "At the next step I evaluated model on the trained data set. As results obtained values of loss is quite hight and accuracy is rather low. This can be explained by the fact that in train and test data present noise that give low contribution to overall accuracy and hight contribution to the loss."
   ]
  },
  {
   "cell_type": "code",
   "execution_count": 10,
   "metadata": {
    "ExecuteTime": {
     "end_time": "2021-08-07T18:19:27.204475Z",
     "start_time": "2021-08-07T18:19:23.225448Z"
    }
   },
   "outputs": [
    {
     "name": "stdout",
     "output_type": "stream",
     "text": [
      "229/229 [==============================] - 5s 22ms/step - loss: 1.1711 - accuracy: 0.5472\n",
      "Test loss: 1.1711490154266357\n",
      "Test accuracy: 0.5472085475921631\n"
     ]
    }
   ],
   "source": [
    "test_eval = model.evaluate(x_test_data, y_test_data[1], verbose=1)\n",
    "print('Test loss:', test_eval[0])\n",
    "print('Test accuracy:', test_eval[1])\n"
   ]
  },
  {
   "cell_type": "markdown",
   "metadata": {},
   "source": [
    "# uncertainty analisis\n",
    "\n",
    "Since the noise data is labeled in the same way as the samples of interests, it is required an approach to to deal with such miss classifications. One way may be to evaluate the uncertainty of all test sample and set a threshold that would cut off most of the noise samples.\n",
    "\n",
    "## epistemic uncertainty\n",
    "\n",
    "Using the method proposed in [Kwon et al., 2018] it is possible to estimate aleatoric and epistemic uncertainty. Aleatoric uncertainty capturing noise inherent in the observations and epistemic uncertainty accounts for model uncertainty, so it may be used to evaluate the uncertainty on the prediction done by the model. Indeed due to implementing drop out in the evaluation phase prediction probability $\\hat{p}_t = p(\\omega_t) = SoftMax(f^{\\hat{\\omega}_t}(x*))$ will be different in each evaluation experiment and effect of drop out may be seen as randomization of parameters of the model $\\omega$ according to the variational predictive distribution $q_{\\hat{\\theta}}(\\omega)$[Kwon et al., 2018]\n",
    "\n",
    "\n",
    "In ordder to calculate the epistemic uncertainty I used formula 4) from [Kwon et al., 2018]:\n",
    "\n",
    "\n",
    "\\begin{align*}\n",
    "Var(y) &= \\frac{1}{T} \\sum_{t=1}^T (\\hat{p}_t - \\bar{p})(\\hat{p}_t - \\bar{p})^T\\\\\n",
    "\\bar{p} &= \\frac{1}{T} \\sum_{t=1}^T \\hat{p}\\\\\n",
    "\\hat{p}_t &= p(\\omega_t) = SoftMax(f^{\\hat{\\omega}_t}(x*))\n",
    "\\end{align*}\n",
    "\n",
    "\n",
    ",where $f^{\\hat{\\omega}_t}(x*)$ is the output of the last dense layer.\n",
    "\n",
    "the implementation of calculus of epistemic uncertainty have been done in the function \"get_epistemic_uncertainty\", that have been adapted from the code proposed by [Kwon et al., 2018]. Using the mean prediction probability the samples are classified considering label with probability larger than 0.5 - unambiguous classification - the other samples are rejected.\n",
    "\n",
    "In order to find the distribution of the uncertainty over all samples I run the loop over entire test set and calculated it for each sample. After that I sorted unambiguously classified samples according to the real labels into corresponding arrays. In this way the noise analysis can be done more effectively and can be avoid the problem of false positive. from the other hand to estimate miss classification of the labels of interest (e.i. \"AC\", \"AD\", \"H\") I store classified labels into dictionary with corresponding real class as keys."
   ]
  },
  {
   "cell_type": "code",
   "execution_count": 11,
   "metadata": {
    "ExecuteTime": {
     "end_time": "2021-08-07T18:20:12.845995Z",
     "start_time": "2021-08-07T18:19:33.467475Z"
    },
    "code_folding": [
     34
    ]
   },
   "outputs": [],
   "source": [
    "trained = False\n",
    "if trained:\n",
    "    df = pd.read_csv(uncertainty_back_up)\n",
    "    epistemic_lable_uncertainty_AC = np.array([i for i in df[\"AC_uncertainty\"]  if not pd.isna(i) ])\n",
    "    epistemic_lable_uncertainty_AD = np.array([i for i in df[\"AD_uncertainty\"]  if not pd.isna(i) ])\n",
    "    epistemic_lable_uncertainty_H = np.array([i for i in df[\"H_uncertainty\"]  if not pd.isna(i) ])\n",
    "\n",
    "    epistemic_lable_uncertainty_blood = np.array([i for i in df[\"blood_uncertainty\"]  if not pd.isna(i) ])\n",
    "    epistemic_lable_uncertainty_fat = np.array([i for i in df[\"fat_uncertainty\"]  if not pd.isna(i) ])\n",
    "    epistemic_lable_uncertainty_glass = np.array([i for i in df[\"glass_uncertainty\"]  if not pd.isna(i) ])\n",
    "    epistemic_lable_uncertainty_stroma = np.array([i for i in df[\"stroma_uncertainty\"]  if not pd.isna(i) ])\n",
    "    \n",
    "else:\n",
    "    dic_predictions = {\"AC\": [], \"AD\": [], \"H\": []}\n",
    "    epistemic_lable_uncertainty_AC = []\n",
    "    epistemic_lable_uncertainty_AD = []\n",
    "    epistemic_lable_uncertainty_H = []\n",
    "    epistemic_lable_uncertainty_blood = []\n",
    "    epistemic_lable_uncertainty_fat = []\n",
    "    epistemic_lable_uncertainty_glass = []\n",
    "    epistemic_lable_uncertainty_stroma = []\n",
    "    \n",
    "    prediction, epistemic = get_epistemic_uncertainty(model, x_test_data, T = 15)\n",
    "    \n",
    "    for i in range(test_dim[0]):\n",
    "        #take into account olny samples that can be predicted --> prediction probability > 0.5\n",
    "            #uncertaincy of false positive is excluded, \n",
    "            #because result have been ordered according real class-lable. \n",
    "            #So results in each arrya effectively belong to the corresponding real class\n",
    "                \n",
    "            #?may be present false negative\n",
    "                #samples of some class with higth uncertaincy may be predicted to belong to wrong class\n",
    "\n",
    "\n",
    "        if len(prediction[i][0]) != 0:\n",
    "            if real_test_class[i] == \"AC\":\n",
    "                dic_predictions[\"AC\"] = np.append(dic_predictions[\"AC\"], np.squeeze(prediction[i]))\n",
    "                epistemic_lable_uncertainty_AC.append(epistemic[i])\n",
    "\n",
    "            elif real_test_class[i] == \"AD\":\n",
    "                dic_predictions[\"AD\"] = np.append(dic_predictions[\"AD\"], np.squeeze(prediction[i]))\n",
    "                epistemic_lable_uncertainty_AD.append(epistemic[i])\n",
    "\n",
    "            elif real_test_class[i] == \"H\":\n",
    "                dic_predictions[\"H\"] = np.append(dic_predictions[\"H\"], np.squeeze(prediction[i]))\n",
    "                epistemic_lable_uncertainty_H.append(epistemic[i])\n",
    "\n",
    "            elif real_test_class[i] == \"blood\":\n",
    "                epistemic_lable_uncertainty_blood.append(epistemic[i])\n",
    "\n",
    "            elif real_test_class[i] == \"fat\":\n",
    "                epistemic_lable_uncertainty_fat.append(epistemic[i])\n",
    "\n",
    "            elif real_test_class[i] == \"glass\":\n",
    "                epistemic_lable_uncertainty_glass.append(epistemic[i])\n",
    "\n",
    "            elif real_test_class[i] == \"stroma\":\n",
    "                epistemic_lable_uncertainty_stroma.append(epistemic[i])\n"
   ]
  },
  {
   "cell_type": "code",
   "execution_count": 12,
   "metadata": {
    "ExecuteTime": {
     "end_time": "2021-08-07T18:20:17.766114Z",
     "start_time": "2021-08-07T18:20:17.752357Z"
    }
   },
   "outputs": [],
   "source": [
    "x = [np.array(epistemic_lable_uncertainty_AC), np.array(epistemic_lable_uncertainty_AD), \n",
    "    np.array(epistemic_lable_uncertainty_H)]\n",
    "names = ['AC', 'AD', 'H']\n",
    "     \n",
    "    \n",
    "x2 = [np.array(epistemic_lable_uncertainty_blood),\n",
    "    np.array(epistemic_lable_uncertainty_fat), np.array(epistemic_lable_uncertainty_glass),\n",
    "    np.array(epistemic_lable_uncertainty_stroma)]\n",
    "names2 = ['blood', 'fat', 'glass', 'stroma']"
   ]
  },
  {
   "cell_type": "markdown",
   "metadata": {},
   "source": [
    "## prediction rate\n",
    "\n",
    "From the table below can be seen the number of unambiguously classified sample for each label. Neural Network is able pretty well to recognize classes of interest. \n",
    "\n",
    "From the other hand noise classes are recognized very bad and most of them are rejected: for example NN wasn't able to discriminate none of samples of glass-class. The rest of noise classes still present very low classification rate. This is desired result since we are are interested into reducing the noise into labeling of the samples of interest.\n"
   ]
  },
  {
   "cell_type": "code",
   "execution_count": 13,
   "metadata": {
    "ExecuteTime": {
     "end_time": "2021-08-07T18:20:19.952148Z",
     "start_time": "2021-08-07T18:20:19.932925Z"
    },
    "scrolled": false
   },
   "outputs": [
    {
     "name": "stdout",
     "output_type": "stream",
     "text": [
      "predicted AC 64 of 1500\n",
      "predicted AD 1478 of 1500\n",
      "predicted H 284 of 1500\n",
      "______________________________\n",
      "\n",
      "predicted blood 449 of 570\n",
      "predicted fat 0 of 522\n",
      "predicted glass 0 of 639\n",
      "predicted stroma 85 of 1077\n",
      "______________________________\n",
      "\n",
      "total classified samples 2360, of 7308\n"
     ]
    }
   ],
   "source": [
    "for (i, m) in zip(x, real_labels):\n",
    "    print(f\"predicted {m} {len(i)} of {len(index_test_real_class[m])}\")\n",
    "\n",
    "print(\"___\"*10+\"\\n\")\n",
    "\n",
    "for (i, m) in zip(x2, noise_labels):\n",
    "    print(f\"predicted {m} {len(i)} of {len(index_test_real_class[m])}\")\n",
    "\n",
    "print(\"___\"*10+\"\\n\")    \n",
    "\n",
    "tot = 0\n",
    "for i in x+x2:\n",
    "    tot += len(i)\n",
    "print(f\"total classified samples {tot}, of {test_dim[0]}\")\n"
   ]
  },
  {
   "cell_type": "markdown",
   "metadata": {},
   "source": [
    "## threshold estimation  \n",
    "\n",
    "At the next step I plotted the density of recognized samples vs corresponding uncertainty. The number of samples have been normalized to the number of recognized samples, in this way the density of different classes can be compared more effectively. from the plot below can be seen the the density of valid samples is highly picked around zero uncertainty.\n",
    "\n",
    "Instead for the noise samples distribution may be seen that most of the samples have large enough uncertainty and most of them may be cut be threshold. However some of the noise classes present a small pick at zero uncertainty, even if very small w.r.t the valid samples density. Due to this fact some fraction of noise persist among right recognized class of interest. However considering that it's only a fraction of already reduced data set overall number of miss classification labels should be rather low."
   ]
  },
  {
   "cell_type": "code",
   "execution_count": 14,
   "metadata": {
    "ExecuteTime": {
     "end_time": "2021-08-07T18:20:58.602924Z",
     "start_time": "2021-08-07T18:20:39.756788Z"
    },
    "scrolled": false
   },
   "outputs": [
    {
     "data": {
      "image/png": "[encoded data removed]",
      "text/plain": [
       "<Figure size 800x800 with 3 Axes>"
      ]
     },
     "metadata": {
      "needs_background": "light"
     },
     "output_type": "display_data"
    }
   ],
   "source": [
    "fig, axs = plt.subplots(3, 1, figsize=(10, 10), dpi=80)\n",
    "\n",
    "\n",
    "kwargs = dict(alpha = 0.5, stacked = True)\n",
    "\n",
    "for i in range(3):\n",
    "    weights = np.ones_like(x[i])/float(len(x[i]))\n",
    "# print(weights)\n",
    "#     plt.hist(i[i], label=names[i], weights=weights, **kwargs)\n",
    "    axs[0].hist(x[i], label=names[i], weights=weights, bins=500, **kwargs)\n",
    "    axs[1].hist(x[i], label=names[i], weights=weights, bins=500, **kwargs)\n",
    "    \n",
    "\n",
    "\n",
    "for j in range(4):\n",
    "    weights2 = np.ones_like(x2[j])/float(len(x2[j]))\n",
    "# print(weights2)\n",
    "#     plt.hist(x2[j], label=names2[j], weights=weights2, **kwargs)\n",
    "    axs[0].hist(x2[j], label=names2[j], weights=weights2, bins=500,  **kwargs)\n",
    "    axs[2].hist(x2[j], label=names2[j], weights=weights2, bins=500,  **kwargs)\n",
    "    \n",
    "\n",
    "\n",
    "axs[0].set_xlim(-0.01, 0.03)\n",
    "axs[0].set_title(\"uncertaincy distribution of valid and nose sample\")\n",
    "axs[0].legend()\n",
    "\n",
    "\n",
    "axs[1].set_xlim(-0.01, 0.04)\n",
    "axs[1].set_title(\"uncertaincy distribution of valid sample\")\n",
    "axs[1].legend()\n",
    "\n",
    "axs[2].set_xlim(-0.01, 0.04)\n",
    "axs[2].set_ylim(-0.01, 0.25)\n",
    "axs[2].set_title(\"uncertaincy distribution of nose sample\")\n",
    "axs[2].legend()\n",
    "\n",
    "plt.savefig(base_path + 'uncertainty.png')\n",
    "plt.show() "
   ]
  },
  {
   "cell_type": "markdown",
   "metadata": {},
   "source": [
    "From the table below can be seen the fraction of samples under a uncertainty threshold. "
   ]
  },
  {
   "cell_type": "code",
   "execution_count": 15,
   "metadata": {
    "ExecuteTime": {
     "end_time": "2021-08-07T18:21:51.323494Z",
     "start_time": "2021-08-07T18:21:51.300677Z"
    },
    "scrolled": false
   },
   "outputs": [
    {
     "name": "stdout",
     "output_type": "stream",
     "text": [
      "fraction of predicted valid samples under treshhold 0.2188 for AC\n",
      "fraction of total valid samples under treshhold 0.0093 for AC\n",
      "number of misss classsificated samples 64 of total 64\n",
      "\n",
      "\n",
      "fraction of predicted valid samples under treshhold 0.1867 for AD\n",
      "fraction of total valid samples under treshhold 0.184 for AD\n",
      "number of misss classsificated samples 0 of total 1478\n",
      "\n",
      "\n",
      "fraction of predicted valid samples under treshhold 0.1197 for H\n",
      "fraction of total valid samples under treshhold 0.0227 for H\n",
      "number of misss classsificated samples 284 of total 284\n",
      "\n",
      "\n",
      "______________________________\n",
      "\n",
      "fraction of predicted noise samples under treshhold 0.3029 for blood\n",
      "fraction of total noise samples under treshhold 0.3029 for blood\n",
      "\n",
      "\n",
      "fat haven't been predicted\n",
      "\n",
      "\n",
      "glass haven't been predicted\n",
      "\n",
      "\n",
      "fraction of predicted noise samples under treshhold 0.1176 for stroma\n",
      "fraction of total noise samples under treshhold 0.1176 for stroma\n",
      "\n",
      "\n"
     ]
    }
   ],
   "source": [
    "threshhold = 0.005\n",
    "\n",
    "\n",
    "good_fraction = []\n",
    "noise_fraction = []\n",
    "lable_to_class ={\"AC\": 0, \"AD\": 1, \"H\": 2}\n",
    "\n",
    "for (i, m) in zip(x, real_labels):\n",
    "    count = 0\n",
    "    for j in dic_predictions[m]:\n",
    "        if j == lable_to_class[m]:\n",
    "            count += 1\n",
    "    good_fraction = np.round( len(np.where(i <= threshhold)[0])/len(i), decimals = 4 )\n",
    "    total_fraction = np.round(len(np.where(i <= threshhold)[0])/len(index_test_real_class[m]), decimals = 4 )\n",
    "    print(f\"fraction of predicted valid samples under treshhold {good_fraction} for {m}\")\n",
    "    print(f\"fraction of total valid samples under treshhold {total_fraction} for {m}\")\n",
    "    print(f\"number of misss classsificated samples {len(i) - count} of total {len(i)}\")\n",
    "    \n",
    "    print(\"\\n\")\n",
    "\n",
    "print(\"___\"*10+\"\\n\")    \n",
    "    \n",
    "\n",
    "for (i, m) in zip(x2, noise_labels):\n",
    "    if len(i) != 0:\n",
    "        noise_fraction = np.round( len(np.where(i <= threshhold)[0])/len(i), decimals = 4 )\n",
    "        total_fraction = np.round(len(np.where(i <= threshhold)[0])/len(index_test_real_class[m]), decimals = 4 )\n",
    "        print(f\"fraction of predicted noise samples under treshhold {noise_fraction} for {m}\")\n",
    "        print(f\"fraction of total noise samples under treshhold {noise_fraction} for {m}\")\n",
    "    else:\n",
    "        print(f\"{m} haven't been predicted\")\n",
    "        \n",
    "    print(\"\\n\")\n"
   ]
  },
  {
   "cell_type": "markdown",
   "metadata": {},
   "source": [
    "# reference\n",
    "\n",
    "[Kwon et al., 2018] Kwon, Yongchan, et al. \"Uncertainty quantification using bayesian neural networks in classification: Application to ischemic stroke lesion segmentation.\" (2018).\n",
    "\n",
    "[Gal, 2015] Gal, Yarin, and Zoubin Ghahramani. \"Dropout as a bayesian approximation: Representing model uncertainty in deep learning.\"(2015)"
   ]
  },
  {
   "cell_type": "code",
   "execution_count": 15,
   "metadata": {
    "ExecuteTime": {
     "end_time": "2020-07-23T11:14:17.896634Z",
     "start_time": "2020-07-23T11:14:17.791943Z"
    },
    "code_folding": []
   },
   "outputs": [],
   "source": [
    "\n",
    "# uncertainty_back_up = \"unc.csv\"\n",
    "\n",
    "uncertaincy_data_set = pd.DataFrame.from_dict({\"AC_uncertainty\": epistemic_lable_uncertainty_AC,\n",
    "                                    \"AD_uncertainty\": epistemic_lable_uncertainty_AD,\n",
    "                                    \"H_uncertainty\": epistemic_lable_uncertainty_H,\n",
    "                                    \"blood_uncertainty\": epistemic_lable_uncertainty_blood,\n",
    "                                    \"fat_uncertainty\": epistemic_lable_uncertainty_fat,\n",
    "                                    \"glass_uncertainty\": epistemic_lable_uncertainty_glass,\n",
    "                                    \"stroma_uncertainty\": epistemic_lable_uncertainty_stroma}, orient='index')\n",
    "\n",
    "with open(uncertainty_back_up, mode='w') as f:\n",
    "    uncertaincy_data_set.transpose().to_csv(uncertainty_back_up)"
   ]
  },
  {
   "cell_type": "code",
   "execution_count": null,
   "metadata": {},
   "outputs": [],
   "source": []
  }
 ],
 "metadata": {
  "@webio": {
   "lastCommId": null,
   "lastKernelId": null
  },
  "hide_input": false,
  "interpreter": {
   "hash": "a0a4150dac6ddb610197498941389f6a3c6f51d6a811928119181668e48c3fca"
  },
  "kernelspec": {
   "display_name": "Python 3.10.4 64-bit ('crc_3_noisy')",
   "language": "python",
   "name": "python3"
  },
  "language_info": {
   "codemirror_mode": {
    "name": "ipython",
    "version": 3
   },
   "file_extension": ".py",
   "mimetype": "text/x-python",
   "name": "python",
   "nbconvert_exporter": "python",
   "pygments_lexer": "ipython3",
   "version": "3.10.4"
  },
  "notify_time": "10",
  "toc": {
   "base_numbering": 1,
   "nav_menu": {},
   "number_sections": true,
   "sideBar": true,
   "skip_h1_title": false,
   "title_cell": "Table of Contents",
   "title_sidebar": "Contents",
   "toc_cell": false,
   "toc_position": {
    "height": "calc(100% - 180px)",
    "left": "10px",
    "top": "150px",
    "width": "347.5px"
   },
   "toc_section_display": true,
   "toc_window_display": true
  },
  "varInspector": {
   "cols": {
    "lenName": 16,
    "lenType": 16,
    "lenVar": 40
   },
   "kernels_config": {
    "python": {
     "delete_cmd_postfix": "",
     "delete_cmd_prefix": "del ",
     "library": "var_list.py",
     "varRefreshCmd": "print(var_dic_list())"
    },
    "r": {
     "delete_cmd_postfix": ") ",
     "delete_cmd_prefix": "rm(",
     "library": "var_list.r",
     "varRefreshCmd": "cat(var_dic_list()) "
    }
   },
   "types_to_exclude": [
    "module",
    "function",
    "builtin_function_or_method",
    "instance",
    "_Feature"
   ],
   "window_display": false
  }
 },
 "nbformat": 4,
 "nbformat_minor": 4
}
